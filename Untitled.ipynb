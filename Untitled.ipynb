{
 "cells": [
  {
   "cell_type": "code",
   "execution_count": 5,
   "metadata": {},
   "outputs": [],
   "source": [
    "import pickle\n",
    "\n",
    "import os\n",
    "import re\n",
    "import sys\n",
    "import glob\n",
    "import pickle\n",
    "import random\n",
    "import logging\n",
    "import argparse\n",
    "from tqdm import tqdm\n",
    "from os.path import join\n",
    "\n",
    "import math\n",
    "import numpy as np\n",
    "import pandas as pd\n",
    "\n",
    "from utils import *"
   ]
  },
  {
   "cell_type": "code",
   "execution_count": 8,
   "metadata": {},
   "outputs": [],
   "source": [
    "preds_dir = 'preds'\n",
    "\n",
    "model_types = ['ngram', 'local']\n",
    "seeds = [6, 23, 28, 36, 66]\n",
    "criteria = ['f1', 'auc']"
   ]
  },
  {
   "cell_type": "code",
   "execution_count": 16,
   "metadata": {},
   "outputs": [],
   "source": [
    "targets = pickle.load(open(join(preds_dir,'top_50_y.pkl'),'rb'))"
   ]
  },
  {
   "cell_type": "code",
   "execution_count": 32,
   "metadata": {},
   "outputs": [],
   "source": [
    "preds_dict = {}\n",
    "for seed in seeds:\n",
    "    preds_dict[seed] = {'f1':{},'auc':{}}\n",
    "\n",
    "for seed in seeds:\n",
    "    for criterion in criteria:\n",
    "        for model_type in model_types:\n",
    "            preds_dict[seed][criterion][model_type] = pickle.load(open(join(preds_dir, \n",
    "                                                                            '{}_bs32_seed{}_best_{}_preds.pkl'.format(model_type, \n",
    "                                                                                                                      seed, \n",
    "                                                                                                                      criterion)), 'rb'))\n",
    "        preds_dict[seed][criterion]['avg_ensemble'] = 0.5 * (preds_dict[seed][criterion]['ngram'] + preds_dict[seed][criterion]['local']) \n",
    "        preds_dict[seed][criterion]['max_ensemble'] = np.maximum(preds_dict[seed][criterion]['ngram'],preds_dict[seed][criterion]['local'])"
   ]
  },
  {
   "cell_type": "code",
   "execution_count": 99,
   "metadata": {},
   "outputs": [
    {
     "data": {
      "text/plain": [
       "{'acc_macro': 0.24398355176752765,\n",
       " 'prec_macro': 0.6155058663445447,\n",
       " 'rec_macro': 0.27833427467124106,\n",
       " 'f1_macro': 0.38332666212599004,\n",
       " 'acc_micro': 0.32491630798660925,\n",
       " 'prec_micro': 0.7434887283869556,\n",
       " 'rec_micro': 0.3659377356458042,\n",
       " 'f1_micro': 0.4904706901530465,\n",
       " 'rec_at_5': 0.5466390413242183,\n",
       " 'prec_at_5': 0.5614748887476161,\n",
       " 'f1_at_5': 0.5539576510742399,\n",
       " 'auc_macro': 0.8711221576474373,\n",
       " 'auc_micro': 0.900575240133241}"
      ]
     },
     "execution_count": 99,
     "metadata": {},
     "output_type": "execute_result"
    }
   ],
   "source": [
    "raw_preds = preds_dict[36]['auc']['avg_ensemble']\n",
    "round_preds = np.round(raw_preds)\n",
    "all_metrics(round_preds, targets, k=5, yhat_raw=raw_preds, calc_auc=True)"
   ]
  },
  {
   "cell_type": "code",
   "execution_count": null,
   "metadata": {},
   "outputs": [],
   "source": []
  }
 ],
 "metadata": {
  "kernelspec": {
   "display_name": "Python 3",
   "language": "python",
   "name": "python3"
  },
  "language_info": {
   "codemirror_mode": {
    "name": "ipython",
    "version": 3
   },
   "file_extension": ".py",
   "mimetype": "text/x-python",
   "name": "python",
   "nbconvert_exporter": "python",
   "pygments_lexer": "ipython3",
   "version": "3.8.3"
  }
 },
 "nbformat": 4,
 "nbformat_minor": 4
}
