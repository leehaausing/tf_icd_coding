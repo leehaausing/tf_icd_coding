{
 "cells": [
  {
   "cell_type": "code",
   "execution_count": 3,
   "metadata": {},
   "outputs": [],
   "source": [
    "import pickle\n",
    "\n",
    "import os\n",
    "import re\n",
    "import sys\n",
    "import glob\n",
    "import pickle\n",
    "import random\n",
    "import logging\n",
    "import argparse\n",
    "from tqdm import tqdm\n",
    "from os.path import join\n",
    "\n",
    "import math\n",
    "import numpy as np\n",
    "import pandas as pd\n",
    "\n",
    "from utils import *"
   ]
  },
  {
   "cell_type": "code",
   "execution_count": 4,
   "metadata": {},
   "outputs": [],
   "source": [
    "preds_dir = 'preds'\n",
    "\n",
    "model_types = ['ngram', 'local']\n",
    "seeds = [6, 23, 28, 36, 66]\n",
    "criteria = ['f1', 'auc']"
   ]
  },
  {
   "cell_type": "code",
   "execution_count": 5,
   "metadata": {},
   "outputs": [],
   "source": [
    "targets = pickle.load(open(join(preds_dir,'top_50_y.pkl'),'rb'))"
   ]
  },
  {
   "cell_type": "code",
   "execution_count": 6,
   "metadata": {},
   "outputs": [],
   "source": [
    "preds_dict = {}\n",
    "for seed in seeds:\n",
    "    preds_dict[seed] = {'f1':{},'auc':{}}\n",
    "\n",
    "for seed in seeds:\n",
    "    for criterion in criteria:\n",
    "        for model_type in model_types:\n",
    "            preds_dict[seed][criterion][model_type] = pickle.load(open(join(preds_dir, \n",
    "                                                                            '{}_bs32_seed{}_best_{}_preds.pkl'.format(model_type, \n",
    "                                                                                                                      seed, \n",
    "                                                                                                                      criterion)), 'rb'))\n",
    "        preds_dict[seed][criterion]['avg_ensemble'] = 0.5 * (preds_dict[seed][criterion]['ngram'] + preds_dict[seed][criterion]['local']) \n",
    "        preds_dict[seed][criterion]['max_ensemble'] = np.maximum(preds_dict[seed][criterion]['ngram'],preds_dict[seed][criterion]['local'])"
   ]
  },
  {
   "cell_type": "code",
   "execution_count": 7,
   "metadata": {},
   "outputs": [
    {
     "data": {
      "text/plain": [
       "{'acc_macro': 0.24398355176752765,\n",
       " 'prec_macro': 0.6155058663445447,\n",
       " 'rec_macro': 0.27833427467124106,\n",
       " 'f1_macro': 0.38332666212599004,\n",
       " 'acc_micro': 0.32491630798660925,\n",
       " 'prec_micro': 0.7434887283869556,\n",
       " 'rec_micro': 0.3659377356458042,\n",
       " 'f1_micro': 0.4904706901530465,\n",
       " 'rec_at_5': 0.5466390413242183,\n",
       " 'prec_at_5': 0.5614748887476161,\n",
       " 'f1_at_5': 0.5539576510742399,\n",
       " 'auc_macro': 0.8711221576474373,\n",
       " 'auc_micro': 0.900575240133241}"
      ]
     },
     "execution_count": 7,
     "metadata": {},
     "output_type": "execute_result"
    }
   ],
   "source": [
    "raw_preds = preds_dict[36]['auc']['avg_ensemble']\n",
    "round_preds = np.round(raw_preds)\n",
    "all_metrics(round_preds, targets, k=5, yhat_raw=raw_preds, calc_auc=True)"
   ]
  },
  {
   "cell_type": "code",
   "execution_count": 34,
   "metadata": {},
   "outputs": [
    {
     "data": {
      "text/plain": [
       "{'acc_macro': 0.19674976659016954,\n",
       " 'prec_macro': 0.6618382005547744,\n",
       " 'rec_macro': 0.21602921894165128,\n",
       " 'f1_macro': 0.325735723541516,\n",
       " 'acc_micro': 0.28091785040230455,\n",
       " 'prec_micro': 0.7829457364341085,\n",
       " 'rec_micro': 0.3046428956156415,\n",
       " 'f1_micro': 0.4386196200077549,\n",
       " 'rec_at_5': 0.5674723855674062,\n",
       " 'prec_at_5': 0.5760966306420852,\n",
       " 'f1_at_5': 0.571751988159708,\n",
       " 'auc_macro': 0.8900626744368002,\n",
       " 'auc_micro': 0.9095807449703286}"
      ]
     },
     "execution_count": 34,
     "metadata": {},
     "output_type": "execute_result"
    }
   ],
   "source": [
    "raw_preds = sum([preds_dict[seed]['auc']['local'] for seed in seeds])/5\n",
    "round_preds = np.round(raw_preds)\n",
    "all_metrics(round_preds, targets, k=5, yhat_raw=raw_preds, calc_auc=True)"
   ]
  },
  {
   "cell_type": "code",
   "execution_count": 36,
   "metadata": {},
   "outputs": [
    {
     "data": {
      "text/plain": [
       "{'acc_macro': 0.2847553942361415,\n",
       " 'prec_macro': 0.6999782305206543,\n",
       " 'rec_macro': 0.32479565287016804,\n",
       " 'f1_macro': 0.4437074169466427,\n",
       " 'acc_micro': 0.3629093678598629,\n",
       " 'prec_micro': 0.7574011523941983,\n",
       " 'rec_micro': 0.41064311106323387,\n",
       " 'f1_micro': 0.5325509918971779,\n",
       " 'rec_at_5': 0.5781692940460819,\n",
       " 'prec_at_5': 0.589319771137953,\n",
       " 'f1_at_5': 0.583691284496132,\n",
       " 'auc_macro': 0.8898525837914599,\n",
       " 'auc_micro': 0.9129041002551037}"
      ]
     },
     "execution_count": 36,
     "metadata": {},
     "output_type": "execute_result"
    }
   ],
   "source": [
    "raw_preds = (sum([preds_dict[seed]['f1']['ngram'] for seed in seeds])/5 + \\\n",
    "             sum([preds_dict[seed]['auc']['ngram'] for seed in seeds])/5 + \\\n",
    "             sum([preds_dict[seed]['f1']['local'] for seed in seeds])/5 + \\\n",
    "             sum([preds_dict[seed]['auc']['local'] for seed in seeds])/5) /4\n",
    "round_preds = np.round(raw_preds)\n",
    "all_metrics(round_preds, targets, k=5, yhat_raw=raw_preds, calc_auc=True)"
   ]
  },
  {
   "cell_type": "code",
   "execution_count": null,
   "metadata": {},
   "outputs": [],
   "source": [
    "raw_preds = sum([preds_dict[seed]['auc']['ngram'] for seed in seeds])/5\n",
    "round_preds = np.round(raw_preds)\n",
    "all_metrics(round_preds, targets, k=5, yhat_raw=raw_preds, calc_auc=True)"
   ]
  },
  {
   "cell_type": "code",
   "execution_count": 39,
   "metadata": {},
   "outputs": [
    {
     "name": "stdout",
     "output_type": "stream",
     "text": [
      "Variation within ngram models: 0.150212869322838\n",
      "Variation within snippet models: 0.12143214202124226\n"
     ]
    }
   ],
   "source": [
    "criterion = 'auc'\n",
    "seed_pairs = [(elem_1, elem_2) for elem_1 in seeds for elem_2 in seeds if elem_1 != elem_2]\n",
    "num_pairs = len(seed_pairs)\n",
    "snippet_map = {'local': 'snippet', 'ngram': 'ngram'}\n",
    "\n",
    "for model_type in model_types:\n",
    "    variation_scores = 0.\n",
    "    for seed_1, seed_2 in seed_pairs:\n",
    "        diff_mat = preds_dict[seed_1][criterion][model_type] - preds_dict[seed_2][criterion][model_type]\n",
    "        variation_scores += np.linalg.norm(diff_mat, ord=1) / diff_mat.shape[0] / num_pairs\n",
    "\n",
    "    print(\"Variation within {} models: {}\".format(snippet_map[model_type],variation_scores))"
   ]
  },
  {
   "cell_type": "code",
   "execution_count": 40,
   "metadata": {},
   "outputs": [
    {
     "name": "stdout",
     "output_type": "stream",
     "text": [
      "Variation across ngram and snippet based models: 0.19532513385052447\n"
     ]
    }
   ],
   "source": [
    "criterion = 'auc'\n",
    "variation_scores = 0.\n",
    "seed_pairs = [(elem_1, elem_2) for elem_1 in seeds for elem_2 in seeds]\n",
    "num_pairs = len(seed_pairs)\n",
    "\n",
    "for seed_1, seed_2 in seed_pairs:\n",
    "    diff_mat = preds_dict[seed_1][criterion]['ngram'] - preds_dict[seed_2][criterion]['local']\n",
    "    variation_scores += np.linalg.norm(diff_mat, ord=1) / diff_mat.shape[0] / num_pairs\n",
    "\n",
    "print(\"Variation across ngram and snippet based models: {}\".format(variation_scores))"
   ]
  },
  {
   "cell_type": "code",
   "execution_count": null,
   "metadata": {},
   "outputs": [],
   "source": []
  }
 ],
 "metadata": {
  "kernelspec": {
   "display_name": "Python 3",
   "language": "python",
   "name": "python3"
  },
  "language_info": {
   "codemirror_mode": {
    "name": "ipython",
    "version": 3
   },
   "file_extension": ".py",
   "mimetype": "text/x-python",
   "name": "python",
   "nbconvert_exporter": "python",
   "pygments_lexer": "ipython3",
   "version": "3.8.3"
  }
 },
 "nbformat": 4,
 "nbformat_minor": 4
}
